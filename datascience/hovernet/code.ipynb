{
 "cells": [
  {
   "cell_type": "code",
   "execution_count": 11,
   "id": "5690fef3",
   "metadata": {},
   "outputs": [
    {
     "name": "stdout",
     "output_type": "stream",
     "text": [
      "|2022-04-14|17:07:06.514| [INFO] .... Detect #GPUS: 1\n",
      "Process Patches:  99%|#######################8| 169/170 [00:31<00:00,  5.33it/s]\n",
      "|2022-04-14|17:07:46.038| [INFO] ........................ Done Assembling TCGA-G9-6336-01Z-00-DX1\n"
     ]
    }
   ],
   "source": [
    "!python /app/hover_net/run_infer.py --nr_types=5 --type_info_path=./type_info.json --model_path=../hovernet_original_consep_type_tf2pytorch.tar --model_mode=original --batch_size=1 tile --input_dir=./input_dir --output_dir=./output_dir --draw_dot"
   ]
  },
  {
   "cell_type": "code",
   "execution_count": 5,
   "id": "0cecf678",
   "metadata": {},
   "outputs": [
    {
     "name": "stdout",
     "output_type": "stream",
     "text": [
      "absl-py                1.0.0\r\n",
      "ipykernel              5.5.6\r\n",
      "ipython                7.16.3\r\n",
      "ipython-genutils       0.2.0\r\n",
      "jupyter-client         7.1.2\r\n",
      "jupyter-core           4.9.2\r\n",
      "jupyterlab-pygments    0.1.2\r\n",
      "numpy                  1.19.1\r\n",
      "opencv-python          4.3.0.36\r\n",
      "openslide-python       1.1.2\r\n",
      "pyasn1                 0.4.8\r\n",
      "pyasn1-modules         0.2.8\r\n",
      "pycparser              2.21\r\n",
      "pyparsing              3.0.8\r\n",
      "pyrsistent             0.18.0\r\n",
      "python-dateutil        2.8.2\r\n",
      "pytz                   2022.1\r\n",
      "pyzmq                  22.3.0\r\n",
      "scipy                  1.5.2\r\n"
     ]
    }
   ],
   "source": [
    "!pip list | grep py"
   ]
  },
  {
   "cell_type": "code",
   "execution_count": null,
   "id": "0cb7182b",
   "metadata": {},
   "outputs": [],
   "source": []
  }
 ],
 "metadata": {
  "kernelspec": {
   "display_name": "Python 3",
   "language": "python",
   "name": "python3"
  },
  "language_info": {
   "codemirror_mode": {
    "name": "ipython",
    "version": 3
   },
   "file_extension": ".py",
   "mimetype": "text/x-python",
   "name": "python",
   "nbconvert_exporter": "python",
   "pygments_lexer": "ipython3",
   "version": "3.6.12"
  }
 },
 "nbformat": 4,
 "nbformat_minor": 5
}
